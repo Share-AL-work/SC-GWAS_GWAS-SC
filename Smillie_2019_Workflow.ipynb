{
 "cells": [
  {
   "cell_type": "markdown",
   "id": "0c484bf8",
   "metadata": {},
   "source": [
    "# 🦠 Smillie *et al.* (2019) Colon snRNA‑seq Workflow"
   ]
  },
  {
   "cell_type": "markdown",
   "id": "20b9c33e",
   "metadata": {},
   "source": [
    "## 📖 Overview  \n",
    "\n",
    "## 📖 Data Sources  \n",
    "| Resource | Link | Notes |\n",
    "| --- | --- | --- |\n",
    "| Smillie *et al.* (2019) *Cell* — “Intra‑ and Inter‑cellular Rewiring of the Human Colon during Ulcerative Colitis” | DOI:10.1016/j.cell.2019.10.009 | Healthy samples only |\n",
    "| **Download portal** | <https://cellxgene.cziscience.com/collections/33d19f34-87f5-455b-8ca5-9023a2e5453d> | Dataset ID on CZ Science |\n",
    "| GRCh38 gene‑coordinate file | `geneMatrix.tsv.gz` | 56 778 genes with start–end positions |\n",
    "\n",
    "### 📦 Outputs Produced\n",
    "| File | Description |\n",
    "| --- | --- |\n",
    "| `2019_Smillie_normal_cellxgene.h5ad` | Cleaned AnnData (all genes, normalized) |\n",
    "| `2019_Smillie_normal_cellxgene_pc.h5ad` | Protein‑coding subset |\n",
    "| `*.cov` | scDRS covariates (all / pc) |\n",
    "| `*.cell_type_counts.txt` | Cell‑type abundance table |\n",
    "| *(Optional)* CELLEX outputs | Saved in `cellex_out/` when run |\n",
    "\n",
    "---"
   ]
  },
  {
   "cell_type": "markdown",
   "id": "66bc5bc8",
   "metadata": {},
   "source": [
    "## 🔧 Environment Setup"
   ]
  },
  {
   "cell_type": "code",
   "execution_count": null,
   "id": "eaa5d335",
   "metadata": {},
   "outputs": [],
   "source": [
    "import scanpy as sc\n",
    "import pandas as pd\n",
    "from pathlib import Path"
   ]
  },
  {
   "cell_type": "markdown",
   "id": "31a3a507",
   "metadata": {},
   "source": [
    "## 📂 Define Paths"
   ]
  },
  {
   "cell_type": "code",
   "execution_count": null,
   "id": "9fc5042b",
   "metadata": {},
   "outputs": [],
   "source": [
    "DATA_DIR   = Path('data/Smillie_2019')\n",
    "OUTPUT_DIR = Path('output/Smillie_2019')\n",
    "OUTPUT_DIR.mkdir(parents=True, exist_ok=True)\n",
    "\n",
    "RAW_H5AD   = DATA_DIR/'2019_Smillie_normal_cellxgene.h5ad'\n",
    "GENE_MATRIX = Path('data')/'geneMatrix.tsv.gz'\n",
    "\n",
    "OUT_H5AD   = OUTPUT_DIR/'2019_Smillie_normal_cellxgene.h5ad'\n",
    "PC_H5AD    = OUTPUT_DIR/'2019_Smillie_normal_cellxgene_pc.h5ad'\n",
    "COV_ALL    = OUTPUT_DIR/'2019_Smillie_normal_cellxgene.cov'\n",
    "COV_PC     = OUTPUT_DIR/'2019_Smillie_normal_cellxgene_pc.cov'\n",
    "COUNTS_TXT = OUTPUT_DIR/'2019_Smillie_normal_cellxgene.cell_type_counts.txt'"
   ]
  },
  {
   "cell_type": "markdown",
   "id": "c30f2b4a",
   "metadata": {},
   "source": [
    "## 🧬 Load AnnData"
   ]
  },
  {
   "cell_type": "code",
   "execution_count": null,
   "id": "d23b9438",
   "metadata": {},
   "outputs": [],
   "source": [
    "sce = sc.read_h5ad(RAW_H5AD)\n",
    "print(sce)"
   ]
  },
  {
   "cell_type": "markdown",
   "id": "76af7efc",
   "metadata": {},
   "source": [
    "## 🧹 Clean Cell‑Type Labels"
   ]
  },
  {
   "cell_type": "code",
   "execution_count": null,
   "id": "f2de6559",
   "metadata": {},
   "outputs": [],
   "source": [
    "sce.obs['cell_type'] = (\n",
    "    sce.obs['cell_type']\n",
    "      .str.replace(' ', '_')\n",
    "      .str.replace('-', '_', regex=False)\n",
    "      .str.replace(',', '_', regex=False))\n",
    "print('Example cell types:', sce.obs['cell_type'].unique()[:10])"
   ]
  },
  {
   "cell_type": "markdown",
   "id": "09b52888",
   "metadata": {},
   "source": [
    "### View Unique Cell‑Type Mapping"
   ]
  },
  {
   "cell_type": "code",
   "execution_count": null,
   "id": "f8791e4c",
   "metadata": {},
   "outputs": [],
   "source": [
    "unique_combo = sce.obs[['CellType','cell_type','cell_type_ontology_term_id']].drop_duplicates().reset_index(drop=True)\n",
    "unique_combo.head()"
   ]
  },
  {
   "cell_type": "markdown",
   "id": "e9540e61",
   "metadata": {},
   "source": [
    "### Save Cleaned AnnData & Cell‑Type Counts"
   ]
  },
  {
   "cell_type": "code",
   "execution_count": null,
   "id": "a815fc2a",
   "metadata": {},
   "outputs": [],
   "source": [
    "sce.write(OUT_H5AD)\n",
    "ct_counts = sce.obs['cell_type'].value_counts()\n",
    "ct_counts.to_csv(COUNTS_TXT, sep='\\t', header=True)\n",
    "ct_counts.head()"
   ]
  },
  {
   "cell_type": "markdown",
   "id": "ce1a08f4",
   "metadata": {},
   "source": [
    "## 📊 Covariate File (All Genes)"
   ]
  },
  {
   "cell_type": "code",
   "execution_count": null,
   "id": "ad45c3c1",
   "metadata": {},
   "outputs": [],
   "source": [
    "cov = pd.DataFrame(index=sce.obs.index)\n",
    "cov['const']=1\n",
    "cov['n_genes']=(sce.X>0).sum(axis=1)\n",
    "for donor in sorted(sce.obs['donor_id'].unique()):\n",
    "    if donor!='N10':\n",
    "        cov[f'donor_{donor}']=(sce.obs['donor_id']==donor).astype(int)\n",
    "\n",
    "cov.to_csv(COV_ALL, sep='\\t')\n",
    "print('Cov file saved:', COV_ALL.name)"
   ]
  },
  {
   "cell_type": "markdown",
   "id": "cbb8a038",
   "metadata": {},
   "source": [
    "## 🧩 Protein‑Coding Subset & Covariate"
   ]
  },
  {
   "cell_type": "code",
   "execution_count": null,
   "id": "0ab7db70",
   "metadata": {},
   "outputs": [],
   "source": [
    "gene_coords = pd.read_csv(GENE_MATRIX, sep='\\t', compression='infer')\n",
    "pc_set = set(gene_coords[gene_coords['gene_type']=='protein_coding']['Gene'])\n",
    "subset_pc = sce[:, sce.var_names.isin(pc_set)].copy()\n",
    "subset_pc.write(PC_H5AD)\n",
    "\n",
    "cov_pc = pd.DataFrame(index=subset_pc.obs.index)\n",
    "cov_pc['const']=1\n",
    "cov_pc['n_genes']=(subset_pc.X>0).sum(axis=1)\n",
    "for donor in sorted(subset_pc.obs['donor_id'].unique()):\n",
    "    if donor!='N10':\n",
    "        cov_pc[f'donor_{donor}']=(subset_pc.obs['donor_id']==donor).astype(int)\n",
    "\n",
    "cov_pc.to_csv(COV_PC, sep='\\t')\n",
    "print('Protein‑coding cov saved')"
   ]
  }
 ],
 "metadata": {
  "kernelspec": {
   "display_name": "Python 3",
   "language": "python",
   "name": "python3"
  }
 },
 "nbformat": 4,
 "nbformat_minor": 5
}
