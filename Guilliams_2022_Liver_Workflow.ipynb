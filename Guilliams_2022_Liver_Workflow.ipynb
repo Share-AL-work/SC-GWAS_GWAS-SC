{
 "cells": [
  {
   "cell_type": "markdown",
   "id": "c1ce0959",
   "metadata": {},
   "source": [
    "# 🧑🏻‍⚕️ Guilliams *et al.* (2022) Human Liver Cell Atlas Workflow"
   ]
  },
  {
   "cell_type": "markdown",
   "id": "3c131ee8",
   "metadata": {},
   "source": [
    "## 📖 Overview  \n",
    "* **Paper**: Guilliams *et al.* (2022) — Human Liver Cell Atlas  \n",
    "* **Download**: <https://livercellatlas.org/datasets_human.php> &nbsp;|&nbsp; <https://cellxgene.cziscience.com/collections/74e10dc4-cbb2-4605-a189-8a1cd8e44d8c>  \n",
    "* **Dataset**: `human_liver_atlas_Guilliams_2022_cell.h5ad` (normalized counts)\n",
    "\n",
    "### Outputs\n",
    "| File | Description |\n",
    "| --- | --- |\n",
    "| `human_liver_atlas_Guilliams_2022_cell.h5ad` | Cleaned AnnData (all genes) |\n",
    "| `human_liver_atlas_Guilliams_2022_cell_pc.h5ad` | Protein‑coding subset |\n",
    "| `.cov` files | scDRS covariates (all / pc) |\n",
    "| Cell‑type counts | `*.cell_type_counts.txt` |\n",
    "| CELLEX scores | CSV files in `cellex_out/` |\n"
   ]
  },
  {
   "cell_type": "markdown",
   "id": "33eaafad",
   "metadata": {},
   "source": [
    "## 🔧 Environment Setup"
   ]
  },
  {
   "cell_type": "code",
   "execution_count": null,
   "id": "4da73ff3",
   "metadata": {},
   "outputs": [],
   "source": [
    "import scanpy as sc\n",
    "import pandas as pd\n",
    "from pathlib import Path"
   ]
  },
  {
   "cell_type": "markdown",
   "id": "d64dae53",
   "metadata": {},
   "source": [
    "## 📂 Define Paths"
   ]
  },
  {
   "cell_type": "code",
   "execution_count": null,
   "id": "4f5d3403",
   "metadata": {},
   "outputs": [],
   "source": [
    "DATA_DIR   = Path('data/Guilliams_2022')\n",
    "OUTPUT_DIR = Path('output/Guilliams_2022')\n",
    "OUTPUT_DIR.mkdir(parents=True, exist_ok=True)\n",
    "\n",
    "RAW_H5AD   = DATA_DIR/'human_liver_atlas_Guilliams_2022_cell.h5ad'\n",
    "GENE_MATRIX= Path('data')/'geneMatrix.tsv.gz'\n",
    "\n",
    "OUT_H5AD   = OUTPUT_DIR/'human_liver_atlas_Guilliams_2022_cell.h5ad'\n",
    "PC_H5AD    = OUTPUT_DIR/'human_liver_atlas_Guilliams_2022_cell_pc.h5ad'\n",
    "COV_ALL    = OUTPUT_DIR/'human_liver_atlas_Guilliams_2022_cell.cov'\n",
    "COV_PC     = OUTPUT_DIR/'human_liver_atlas_Guilliams_2022_cell_pc.cov'\n",
    "COUNTS_TXT = OUTPUT_DIR/'human_liver_atlas_Guilliams_2022_cell.cell_type_counts.txt'\n",
    "CELLEX_DIR = OUTPUT_DIR/'cellex_out'\n",
    "CELLEX_DIR.mkdir(exist_ok=True)"
   ]
  },
  {
   "cell_type": "markdown",
   "id": "cb04d696",
   "metadata": {},
   "source": [
    "## 🧬 Load AnnData & Clean Cell‑Type Labels"
   ]
  },
  {
   "cell_type": "code",
   "execution_count": null,
   "id": "ef99451f",
   "metadata": {},
   "outputs": [],
   "source": [
    "sce = sc.read_h5ad(RAW_H5AD)\n",
    "# Clean cell_type labels\n",
    "sce.obs['cell_type'] = (\n",
    "    sce.obs['cell_type']\n",
    "      .str.replace(' ', '_')\n",
    "      .str.replace('-', '_', regex=False)\n",
    "      .str.replace(',', '_', regex=False))\n",
    "print('Example cell types:', sce.obs['cell_type'].unique()[:10])"
   ]
  },
  {
   "cell_type": "markdown",
   "id": "a197f4ad",
   "metadata": {},
   "source": [
    "### Save Cell‑Type Counts & Cleaned AnnData"
   ]
  },
  {
   "cell_type": "code",
   "execution_count": null,
   "id": "5a5b6f31",
   "metadata": {},
   "outputs": [],
   "source": [
    "sce.write(OUT_H5AD)\n",
    "ct_counts = sce.obs['cell_type'].value_counts()\n",
    "ct_counts.to_csv(COUNTS_TXT, sep='\\t', header=True)\n",
    "ct_counts.head()"
   ]
  },
  {
   "cell_type": "markdown",
   "id": "08ad7f69",
   "metadata": {},
   "source": [
    "## 📊 Covariate File (All Genes)"
   ]
  },
  {
   "cell_type": "code",
   "execution_count": null,
   "id": "bcc666e0",
   "metadata": {},
   "outputs": [],
   "source": [
    "cov = pd.DataFrame(index=sce.obs.index)\n",
    "cov['const']=1\n",
    "cov['n_genes']=(sce.X>0).sum(axis=1)\n",
    "for donor in sorted(sce.obs['donor_id'].unique()):\n",
    "    if donor!='H02':\n",
    "        cov[f'donor_{donor}']=(sce.obs['donor_id']==donor).astype(int)\n",
    "cov.to_csv(COV_ALL, sep='\\t')\n",
    "print('Saved', COV_ALL.name)"
   ]
  },
  {
   "cell_type": "markdown",
   "id": "b25b675e",
   "metadata": {},
   "source": [
    "## 🧩 Protein‑Coding Subset & Covariate"
   ]
  },
  {
   "cell_type": "code",
   "execution_count": null,
   "id": "24046eb0",
   "metadata": {},
   "outputs": [],
   "source": [
    "gene_coords = pd.read_csv(GENE_MATRIX, sep='\\t', compression='infer')\n",
    "pc_set = set(gene_coords[gene_coords['gene_type']=='protein_coding']['Gene'])\n",
    "subset_pc = sce[:, sce.var_names.isin(pc_set)].copy()\n",
    "subset_pc.write(PC_H5AD)\n",
    "\n",
    "cov_pc = pd.DataFrame(index=subset_pc.obs.index)\n",
    "cov_pc['const']=1\n",
    "cov_pc['n_genes']=(subset_pc.X>0).sum(axis=1)\n",
    "for donor in sorted(subset_pc.obs['donor_id'].unique()):\n",
    "    if donor!='H02':\n",
    "        cov_pc[f'donor_{donor}']=(subset_pc.obs['donor_id']==donor).astype(int)\n",
    "cov_pc.to_csv(COV_PC, sep='\\t')"
   ]
  },
  {
   "cell_type": "markdown",
   "id": "42dff9a1",
   "metadata": {},
   "source": [
    "## 🔬 Run CELLEX (All Genes & PC)"
   ]
  },
  {
   "cell_type": "code",
   "execution_count": null,
   "id": "4a9ee194",
   "metadata": {},
   "outputs": [],
   "source": [
    "# Requires cellex installed & may take time ↴\n",
    "# import cellex\n",
    "# import numpy as np\n",
    "# from cellex import ESObject\n",
    "# def run_cellex(a, prefix):\n",
    "#     df = a.to_df().T\n",
    "#     eso = ESObject(data=df, annotation=a.obs['cell_type'], normalize=False, verbose=True)\n",
    "#     eso.compute(verbose=True)\n",
    "#     eso.save_as_csv(keys=['all'], path=CELLEX_DIR, file_prefix=prefix, verbose=True)\n",
    "# run_cellex(sce, 'human_liver_atlas_Guilliams_2022_cell')\n",
    "# run_cellex(subset_pc, 'human_liver_atlas_Guilliams_2022_cell_pc')"
   ]
  }
 ],
 "metadata": {
  "kernelspec": {
   "display_name": "Python 3",
   "language": "python",
   "name": "python3"
  }
 },
 "nbformat": 4,
 "nbformat_minor": 5
}
