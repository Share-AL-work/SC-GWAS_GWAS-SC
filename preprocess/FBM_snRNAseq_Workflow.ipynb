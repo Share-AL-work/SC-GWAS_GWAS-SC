{
 "cells": [
  {
   "cell_type": "markdown",
   "id": "21f6487e",
   "metadata": {},
   "source": [
    "# 🦴 Fetal Bone Marrow snRNA‑seq Processing Workflow\n",
    "This notebook preprocesses the **Jardine et al. (2021) Nature** fetal bone‐marrow dataset to produce analysis‑ready AnnData objects and companion files."
   ]
  },
  {
   "cell_type": "markdown",
   "id": "0b291aea",
   "metadata": {},
   "source": [
    "## 📖 Introduction & Data Sources\n",
    "\n",
    "* **Paper**: Jardine *et al.* (2021) *Nature* — “Blood and immune development in human fetal bone marrow and Down syndrome”  \n",
    "* **Portal**: <https://developmental.cellatlas.io/fetal-bone-marrow>  \n",
    "* **Assays**: 10x 3′, 10x 5′, 10x VDJ‑TCR, 10x VDJ‑BCR  \n",
    "* **Counts**: 103 228 cells   |   **Genes expressed**: 33 712 (initial)\n",
    "\n",
    "### Outputs Generated\n",
    "\n",
    "| Purpose | Output file |\n",
    "| --- | --- |\n",
    "| Expression + genomic positions | `Human_fetal_BM10x_expr_gene_withPos.h5ad` |\n",
    "| Protein‑coding subset | `Human_fetal_BM10x_pc.h5ad` |\n",
    "| scDRS covariate file | `Human_fetal_BM10x_expr_gene_withPos.cov` |\n",
    "| Gene‑type distribution plot | `Human_fetal_BM10x_gene_type_distribution.png` |\n",
    "| Gene lists (all / pc) | `Human_fetal_BM10x_allgene_list.csv`, `Human_fetal_BM10x_pcgene_list.csv` |\n",
    "| Unique cell‑label pairs | `Human_fetal_BM10x_unique_cell_label_pairs.csv` |\n",
    "\n",
    "> **Path Policy** : All filesystem references below use **relative paths** (`DATA_DIR`, `OUTPUT_DIR`).  \n",
    "> Adjust them to suit your environment without revealing absolute locations.\n"
   ]
  },
  {
   "cell_type": "markdown",
   "id": "40cc3549",
   "metadata": {},
   "source": [
    "## 🔧 Environment Setup"
   ]
  },
  {
   "cell_type": "code",
   "execution_count": null,
   "id": "d0ccb789",
   "metadata": {},
   "outputs": [],
   "source": [
    "import scanpy as sc\n",
    "import anndata as ad\n",
    "import pandas as pd\n",
    "import numpy as np\n",
    "import matplotlib.pyplot as plt\n",
    "from pathlib import Path"
   ]
  },
  {
   "cell_type": "markdown",
   "id": "6aac25a9",
   "metadata": {},
   "source": [
    "## 📂 Define Input / Output Paths"
   ]
  },
  {
   "cell_type": "code",
   "execution_count": null,
   "id": "f2b3f588",
   "metadata": {},
   "outputs": [],
   "source": [
    "# Edit these directories as needed\n",
    "DATA_DIR   = Path('data/FBM')           # Holds raw .h5ad\n",
    "OUTPUT_DIR = Path('output/FBM')         # Will store processed files\n",
    "OUTPUT_DIR.mkdir(parents=True, exist_ok=True)\n",
    "\n",
    "RAW_H5AD          = DATA_DIR / 'Human_fetal_BM10x.h5ad'\n",
    "GENE_MATRIX_PATH  = Path('data') / 'geneMatrix.tsv.gz'   # 56 778 genes with coordinates"
   ]
  },
  {
   "cell_type": "markdown",
   "id": "b32670ca",
   "metadata": {},
   "source": [
    "## 📑 Load Raw AnnData"
   ]
  },
  {
   "cell_type": "code",
   "execution_count": null,
   "id": "936b1334",
   "metadata": {},
   "outputs": [],
   "source": [
    "sce = sc.read_h5ad(RAW_H5AD)\n",
    "print(sce)"
   ]
  },
  {
   "cell_type": "markdown",
   "id": "ec526d9b",
   "metadata": {},
   "source": [
    "## 🔁 Convert Gene IDs → Ensembl (ENSG)"
   ]
  },
  {
   "cell_type": "code",
   "execution_count": null,
   "id": "a34e77ac",
   "metadata": {},
   "outputs": [],
   "source": [
    "# Assume gene IDs are stored in var index like 'gene_ids-1'; keep a backup symbol column\n",
    "sce.var['symbol_gene_name'] = sce.var.index\n",
    "\n",
    "# Replace index with Ensembl IDs from 'gene_ids-1'\n",
    "sce.var.index = sce.var['gene_ids-1'].astype(str)\n",
    "# Drop the now‑redundant column\n",
    "sce.var.drop(columns=['gene_ids-1'], inplace=True)"
   ]
  },
  {
   "cell_type": "markdown",
   "id": "41d9e1ac",
   "metadata": {},
   "source": [
    "## 🧬 Keep Genes with Genomic Coordinates"
   ]
  },
  {
   "cell_type": "code",
   "execution_count": null,
   "id": "ae6dd13e",
   "metadata": {},
   "outputs": [],
   "source": [
    "gene_coords = pd.read_csv(GENE_MATRIX_PATH, sep='\\t', compression='infer')\n",
    "common_genes = gene_coords['Gene'].astype(str).intersection(sce.var_names)\n",
    "print(f'Genes before: {sce.n_vars} | after coordinate filter: {common_genes.size}')\n",
    "adata = sce[:, sce.var_names.isin(common_genes)].copy()"
   ]
  },
  {
   "cell_type": "markdown",
   "id": "8957f178",
   "metadata": {},
   "source": [
    "## 🕵️‍♀️ Remove Low‑Frequency Cell Types (<20 cells)"
   ]
  },
  {
   "cell_type": "code",
   "execution_count": null,
   "id": "8a6170ef",
   "metadata": {},
   "outputs": [],
   "source": [
    "adata.obs['cell.labels'] = adata.obs['cell.labels'].str.replace(' ', '_', regex=False)\n",
    "cell_counts = adata.obs['cell.labels'].value_counts()\n",
    "cell_counts.to_csv(OUTPUT_DIR/'cell_labels_counts.txt', sep='\\t')\n",
    "keep_types = cell_counts[cell_counts >= 20].index\n",
    "adata = adata[adata.obs['cell.labels'].isin(keep_types)].copy()\n",
    "print(f'Retained {adata.n_obs} cells • {adata.obs[\"cell.labels\"].nunique()} cell types')"
   ]
  },
  {
   "cell_type": "markdown",
   "id": "74c8d23d",
   "metadata": {},
   "source": [
    "## 💾 Save Expression + Gene‑Position AnnData"
   ]
  },
  {
   "cell_type": "code",
   "execution_count": null,
   "id": "8176372c",
   "metadata": {},
   "outputs": [],
   "source": [
    "adata.write(OUTPUT_DIR/'Human_fetal_BM10x_expr_gene_withPos.h5ad')"
   ]
  },
  {
   "cell_type": "markdown",
   "id": "5cfb04af",
   "metadata": {},
   "source": [
    "## 📊 Generate scDRS Covariate File (.cov)"
   ]
  },
  {
   "cell_type": "code",
   "execution_count": null,
   "id": "0a53c039",
   "metadata": {},
   "outputs": [],
   "source": [
    "cov = pd.DataFrame(index=adata.obs_names)\n",
    "cov['const'] = 1\n",
    "cov['n_genes'] = (adata.X>0).sum(axis=1)\n",
    "for donor in sorted(adata.obs['orig.ident'].unique()):\n",
    "    cov[f'donor_{donor}'] = (adata.obs['orig.ident']==donor).astype(int)\n",
    "\n",
    "cov.to_csv(OUTPUT_DIR/'Human_fetal_BM10x_expr_gene_withPos.cov', sep='\\t')"
   ]
  },
  {
   "cell_type": "markdown",
   "id": "41425db1",
   "metadata": {},
   "source": [
    "## 🧩 Subset to Protein‑Coding Genes"
   ]
  },
  {
   "cell_type": "code",
   "execution_count": null,
   "id": "f606e84b",
   "metadata": {},
   "outputs": [],
   "source": [
    "pc_genes = gene_coords[gene_coords['gene_type']=='protein_coding']['Gene']\n",
    "adata_pc = adata[:, adata.var_names.isin(pc_genes)].copy()\n",
    "adata_pc.write(OUTPUT_DIR/'Human_fetal_BM10x_pc.h5ad')\n",
    "print(adata_pc)"
   ]
  },
  {
   "cell_type": "markdown",
   "id": "daa58777",
   "metadata": {},
   "source": [
    "## 📈 Plot Gene‑Type Distribution"
   ]
  },
  {
   "cell_type": "code",
   "execution_count": null,
   "id": "adb7128a",
   "metadata": {},
   "outputs": [],
   "source": [
    "gene_type_counts = gene_coords[gene_coords['Gene'].isin(adata.var_names)]['gene_type'].value_counts()\n",
    "ax = gene_type_counts.plot(kind='bar', figsize=(8,6))\n",
    "ax.set_ylabel('Number of genes')\n",
    "ax.set_xlabel('Gene type')\n",
    "plt.xticks(rotation=45, ha='right')\n",
    "plt.tight_layout()\n",
    "plt.savefig(OUTPUT_DIR/'Human_fetal_BM10x_gene_type_distribution.png')\n",
    "plt.show()"
   ]
  },
  {
   "cell_type": "markdown",
   "id": "b3c1a657",
   "metadata": {},
   "source": [
    "## 🗂️ Export Unique Cell‑Label Pairs"
   ]
  },
  {
   "cell_type": "code",
   "execution_count": null,
   "id": "5d9b8b0a",
   "metadata": {},
   "outputs": [],
   "source": [
    "labels_df = adata.obs[['cell.labels','broad_fig1_cell.labels']].drop_duplicates()\n",
    "labels_df.to_csv(OUTPUT_DIR/'Human_fetal_BM10x_unique_cell_label_pairs.csv',index=False)"
   ]
  },
  {
   "cell_type": "markdown",
   "id": "cfe10846",
   "metadata": {},
   "source": [
    "## 🗃️ Export Gene Lists"
   ]
  },
  {
   "cell_type": "code",
   "execution_count": null,
   "id": "3142ee36",
   "metadata": {},
   "outputs": [],
   "source": [
    "pd.Series(adata.var_names,name='ensgid').to_csv(OUTPUT_DIR/'Human_fetal_BM10x_allgene_list.csv',index=False)\n",
    "pd.Series(adata_pc.var_names,name='ensgid').to_csv(OUTPUT_DIR/'Human_fetal_BM10x_pcgene_list.csv',index=False)"
   ]
  }
 ],
 "metadata": {
  "kernelspec": {
   "display_name": "Python 3",
   "language": "python",
   "name": "python3"
  }
 },
 "nbformat": 4,
 "nbformat_minor": 5
}
