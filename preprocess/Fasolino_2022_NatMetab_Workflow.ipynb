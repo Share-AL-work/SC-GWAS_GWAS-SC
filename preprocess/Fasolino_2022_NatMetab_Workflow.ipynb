{
 "cells": [
  {
   "cell_type": "markdown",
   "id": "446133e2",
   "metadata": {},
   "source": [
    "# 🪄 Fasolino *et al.* (2022) Pancreas snRNA‑seq Workflow"
   ]
  },
  {
   "cell_type": "markdown",
   "id": "8918581b",
   "metadata": {},
   "source": [
    "## 📖 Introduction & Data Sources  \n",
    "* **Paper**: Fasolino M, *et al.* (2022) *Nat Metab* — “Transcriptional and epigenomic signatures of human pancreas cell types in health and disease”  \n",
    "* **Portal**: <https://cellxgene.cziscience.com/> (collection identifier as per study)  \n",
    "* **Scope**: Human pancreas single‑nucleus RNA‑seq; healthy samples only.\n",
    "\n",
    "### Workflow Outputs\n",
    "| File | Description |\n",
    "| --- | --- |\n",
    "| `Fasolino_2022_expr_gene_withPos.h5ad` | Expression + genomic positions, ≥ 20 cells/CT |\n",
    "| `Fasolino_2022_pc.h5ad` | Protein‑coding subset |\n",
    "| `.cov` | scDRS covariates |\n",
    "| Gene lists | `*_allgene_list.csv`, `*_pcgene_list.csv` |\n",
    "| Cell‑type hierarchy | `Fasolino_2022_celltypes_levels.txt` |\n",
    "\n",
    "All paths below use **relative variables** (`DATA_DIR`, `OUTPUT_DIR`).  \n",
    "Edit to point at your dataset locations.\n"
   ]
  },
  {
   "cell_type": "markdown",
   "id": "e7f28ea6",
   "metadata": {},
   "source": [
    "## 🔧 Environment Setup"
   ]
  },
  {
   "cell_type": "code",
   "execution_count": null,
   "id": "aeb52fbf",
   "metadata": {},
   "outputs": [],
   "source": [
    "import scanpy as sc\n",
    "import anndata as ad\n",
    "import pandas as pd\n",
    "import numpy as np\n",
    "import matplotlib.pyplot as plt\n",
    "from pathlib import Path"
   ]
  },
  {
   "cell_type": "markdown",
   "id": "8ce8a1ae",
   "metadata": {},
   "source": [
    "## 📂 Define Input / Output Paths"
   ]
  },
  {
   "cell_type": "code",
   "execution_count": null,
   "id": "e807a141",
   "metadata": {},
   "outputs": [],
   "source": [
    "DATA_DIR   = Path('data/Fasolino')          # raw .h5ad + metadata\n",
    "OUTPUT_DIR = Path('output/Fasolino')\n",
    "OUTPUT_DIR.mkdir(parents=True, exist_ok=True)\n",
    "\n",
    "RAW_H5AD       = DATA_DIR/'Fasolino_2022_raw.h5ad'   # rename as appropriate\n",
    "GENE_MATRIX    = Path('data')/'geneMatrix.tsv.gz'     # GRCh38 coords"
   ]
  },
  {
   "cell_type": "markdown",
   "id": "6256615d",
   "metadata": {},
   "source": [
    "## 🧬 Load Raw AnnData"
   ]
  },
  {
   "cell_type": "code",
   "execution_count": null,
   "id": "411c3fa2",
   "metadata": {},
   "outputs": [],
   "source": [
    "adata = sc.read_h5ad(RAW_H5AD)\n",
    "print(adata)"
   ]
  },
  {
   "cell_type": "markdown",
   "id": "9d7e67b4",
   "metadata": {},
   "source": [
    "## 🔁 Verify Gene IDs (Assumed ENSG)"
   ]
  },
  {
   "cell_type": "code",
   "execution_count": null,
   "id": "fce5dc04",
   "metadata": {},
   "outputs": [],
   "source": [
    "# If symbols present, add mapping code here; else continue"
   ]
  },
  {
   "cell_type": "markdown",
   "id": "a6ff5cd5",
   "metadata": {},
   "source": [
    "## 🧬 Keep Genes with Genomic Coordinates"
   ]
  },
  {
   "cell_type": "code",
   "execution_count": null,
   "id": "8eb80d58",
   "metadata": {},
   "outputs": [],
   "source": [
    "gene_coords = pd.read_csv(GENE_MATRIX, sep='\\t', compression='infer')\n",
    "valid_genes = gene_coords['Gene'].astype(str).intersection(adata.var_names)\n",
    "adata = adata[:, adata.var_names.isin(valid_genes)].copy()\n",
    "print('Genes after coord filter:', adata.n_vars)"
   ]
  },
  {
   "cell_type": "markdown",
   "id": "c88119a4",
   "metadata": {},
   "source": [
    "## 🧹 Filter Cell Types with < 20 Cells"
   ]
  },
  {
   "cell_type": "code",
   "execution_count": null,
   "id": "18a4818e",
   "metadata": {},
   "outputs": [],
   "source": [
    "label_col = 'cell_type'  # adjust based on .obs column name\n",
    "adata.obs[label_col] = adata.obs[label_col].str.replace('[\\s,\\-]','_', regex=True)\n",
    "keep = adata.obs[label_col].value_counts()[lambda s: s>=20].index\n",
    "adata = adata[adata.obs[label_col].isin(keep)].copy()\n",
    "print('Cells retained:', adata.n_obs)"
   ]
  },
  {
   "cell_type": "markdown",
   "id": "234ab002",
   "metadata": {},
   "source": [
    "## 💾 Save Expression + Gene‑Position AnnData"
   ]
  },
  {
   "cell_type": "code",
   "execution_count": null,
   "id": "213c004b",
   "metadata": {},
   "outputs": [],
   "source": [
    "adata.write(OUTPUT_DIR/'Fasolino_2022_expr_gene_withPos.h5ad')"
   ]
  },
  {
   "cell_type": "markdown",
   "id": "fe3747a8",
   "metadata": {},
   "source": [
    "## 📊 Generate scDRS Covariate File"
   ]
  },
  {
   "cell_type": "code",
   "execution_count": null,
   "id": "90a34aee",
   "metadata": {},
   "outputs": [],
   "source": [
    "cov = pd.DataFrame(index=adata.obs_names)\n",
    "cov['const']=1\n",
    "cov['n_genes']=(adata.X>0).sum(1)\n",
    "# Assume donor column present\n",
    "for donor in sorted(adata.obs['donor'].unique()):\n",
    "    cov[f'donor_{donor}']=(adata.obs['donor']==donor).astype(int)\n",
    "\n",
    "cov.to_csv(OUTPUT_DIR/'Fasolino_2022_expr_gene_withPos.cov', sep='\\t')"
   ]
  },
  {
   "cell_type": "markdown",
   "id": "ed99ddea",
   "metadata": {},
   "source": [
    "## 🧩 Subset to Protein‑Coding Genes"
   ]
  },
  {
   "cell_type": "code",
   "execution_count": null,
   "id": "7497bc38",
   "metadata": {},
   "outputs": [],
   "source": [
    "pc_genes = gene_coords[gene_coords['gene_type']=='protein_coding']['Gene']\n",
    "adata_pc = adata[:, adata.var_names.isin(pc_genes)].copy()\n",
    "adata_pc.write(OUTPUT_DIR/'Fasolino_2022_pc.h5ad')"
   ]
  },
  {
   "cell_type": "markdown",
   "id": "1a718764",
   "metadata": {},
   "source": [
    "## 🗃️ Export Gene Lists"
   ]
  },
  {
   "cell_type": "code",
   "execution_count": null,
   "id": "e9128feb",
   "metadata": {},
   "outputs": [],
   "source": [
    "pd.Series(adata.var_names, name='Gene').to_csv(OUTPUT_DIR/'Fasolino_2022_allgene_list.csv', index=False)\n",
    "pd.Series(adata_pc.var_names, name='Gene').to_csv(OUTPUT_DIR/'Fasolino_2022_pcgene_list.csv', index=False)"
   ]
  },
  {
   "cell_type": "markdown",
   "id": "0a3f99d4",
   "metadata": {},
   "source": [
    "## 🗂️ Export Cell‑Type Hierarchy (Optional)"
   ]
  },
  {
   "cell_type": "code",
   "execution_count": null,
   "id": "8d68ac41",
   "metadata": {},
   "outputs": [],
   "source": [
    "# adata.obs[['cell_type','broad_cell_type']].drop_duplicates().to_csv(...)"
   ]
  }
 ],
 "metadata": {
  "kernelspec": {
   "display_name": "Python 3",
   "language": "python",
   "name": "python3"
  }
 },
 "nbformat": 4,
 "nbformat_minor": 5
}
