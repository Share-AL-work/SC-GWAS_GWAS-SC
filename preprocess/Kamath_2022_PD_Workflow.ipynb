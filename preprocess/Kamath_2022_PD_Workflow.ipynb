{
 "cells": [
  {
   "cell_type": "markdown",
   "id": "9bc18794",
   "metadata": {},
   "source": [
    "# 🧠 Kamath *et al.* (2022) Dopamine‑Neuron snRNA‑seq Workflow"
   ]
  },
  {
   "cell_type": "markdown",
   "id": "1843a56a",
   "metadata": {},
   "source": [
    "## 📖 Introduction & Data Sources  \n",
    "* **Paper**: Kamath T, Abdulraouf A, Burris SJ, Langlieb J, *et al.* (2022) *Nat Neurosci* 25:588‑595  \n",
    "* **Title**: *Single‑cell genomic profiling of human dopamine neurons identifies a population that selectively degenerates in Parkinson’s disease*  \n",
    "* **Collection** (cellxgene): <https://cellxgene.cziscience.com/collections/b0f0b447-ac37-45b0-b1bf-5c0b7d871120>  \n",
    "* **Scope**: 8 broad brain cell types — initial raw objects per cell type.\n",
    "\n",
    "### Workflow Outputs\n",
    "| File | Description |\n",
    "| --- | --- |\n",
    "| `Kamath_2022_combined_raw.h5ad` | All 8 cell‑type raw objects concatenated |\n",
    "| `Kamath_2022_normal_expr_gene_withPos.h5ad` | Healthy donor subset with genomic‑position genes |\n",
    "| `Kamath_2022_normal_pc.h5ad` | Protein‑coding subset |\n",
    "| `.cov` | scDRS covariate file |\n",
    "| Gene lists | `*_allgene_list.csv`, `*_pcgene_list.csv` |\n",
    "| Cell‑type hierarchy | `Kamath_2022_celltypes_levels.txt` |\n",
    "\n",
    "*Absolute paths are **not** stored; edit `DATA_DIR` and `OUTPUT_DIR` variables to match your environment.*\n"
   ]
  },
  {
   "cell_type": "markdown",
   "id": "19ad32f1",
   "metadata": {},
   "source": [
    "## 🔧 Environment Setup"
   ]
  },
  {
   "cell_type": "code",
   "execution_count": null,
   "id": "b3c0a804",
   "metadata": {},
   "outputs": [],
   "source": [
    "import scanpy as sc\n",
    "import anndata as ad\n",
    "import pandas as pd\n",
    "import numpy as np\n",
    "import matplotlib.pyplot as plt\n",
    "from pathlib import Path"
   ]
  },
  {
   "cell_type": "markdown",
   "id": "2bf503ca",
   "metadata": {},
   "source": [
    "## 📂 Define Paths"
   ]
  },
  {
   "cell_type": "code",
   "execution_count": null,
   "id": "ff059fc2",
   "metadata": {},
   "outputs": [],
   "source": [
    "DATA_DIR   = Path('data/PD_Macosko')   # contains per‑cell‑type .h5ad files + metadata txt\n",
    "OUTPUT_DIR = Path('output/PD_Macosko')\n",
    "OUTPUT_DIR.mkdir(parents=True, exist_ok=True)\n",
    "\n",
    "CELLTYPE_FILES = [\n",
    "    'Astrocytes.h5ad', 'Endothelial.h5ad', 'Non_DA_Neurons.h5ad',\n",
    "    'OPC.h5ad', 'DA_Neurons.h5ad', 'Microglia.h5ad', 'Oligodendrocytes.h5ad'\n",
    "]\n",
    "CELLTYPE_FILES = [DATA_DIR/f for f in CELLTYPE_FILES]\n",
    "\n",
    "META_LEVELS_TXT = DATA_DIR/'Kamath_2022_celltypes_levels.txt'\n",
    "GENE_MATRIX    = Path('data')/'geneMatrix.tsv.gz'   # 56k gene coords"
   ]
  },
  {
   "cell_type": "markdown",
   "id": "4d43052c",
   "metadata": {},
   "source": [
    "## 🧩 Load & Concatenate Cell‑Type Objects"
   ]
  },
  {
   "cell_type": "code",
   "execution_count": null,
   "id": "1907dbe6",
   "metadata": {},
   "outputs": [],
   "source": [
    "datasets=[]\n",
    "for fp in CELLTYPE_FILES:\n",
    "    adata = sc.read_h5ad(fp)\n",
    "    adata.obs['broad_cell_type'] = fp.stem  # add from filename\n",
    "    datasets.append(adata)\n",
    "combined = ad.concat(datasets, join='outer', label='batch', keys=[p.stem for p in CELLTYPE_FILES])\n",
    "combined.write(OUTPUT_DIR/'Kamath_2022_combined_raw.h5ad')\n",
    "print(combined)"
   ]
  },
  {
   "cell_type": "markdown",
   "id": "4fad0173",
   "metadata": {},
   "source": [
    "## 🗂️ Merge Author‑Defined Cell‑Type Levels"
   ]
  },
  {
   "cell_type": "code",
   "execution_count": null,
   "id": "64940485",
   "metadata": {},
   "outputs": [],
   "source": [
    "meta_levels = pd.read_csv(META_LEVELS_TXT, sep='\\t')\n",
    "combined.obs.reset_index(inplace=True)\n",
    "combined.obs = combined.obs.merge(meta_levels, on=['author_cell_type','broad_cell_type','cell_type'], how='left')\n",
    "combined.obs.set_index('index', inplace=True)"
   ]
  },
  {
   "cell_type": "markdown",
   "id": "47d989fa",
   "metadata": {},
   "source": [
    "## 👤 Parse Age & Recode Sex"
   ]
  },
  {
   "cell_type": "code",
   "execution_count": null,
   "id": "415aef0d",
   "metadata": {},
   "outputs": [],
   "source": [
    "combined.obs['age'] = pd.to_numeric(combined.obs['development_stage'].str.extract(r'(\\d+)')[0], errors='coerce')\n",
    "combined.obs['sex'] = combined.obs['sex'].map({'female':0,'male':1})"
   ]
  },
  {
   "cell_type": "markdown",
   "id": "c5a92277",
   "metadata": {},
   "source": [
    "## 🩺 Subset to Healthy Donors"
   ]
  },
  {
   "cell_type": "code",
   "execution_count": null,
   "id": "dae4697d",
   "metadata": {},
   "outputs": [],
   "source": [
    "sce = combined[combined.obs['disease']=='normal'].copy()\n",
    "print(sce)"
   ]
  },
  {
   "cell_type": "markdown",
   "id": "567fb8c6",
   "metadata": {},
   "source": [
    "## 🧬 Filter Genes with Coordinates"
   ]
  },
  {
   "cell_type": "code",
   "execution_count": null,
   "id": "aaf7d480",
   "metadata": {},
   "outputs": [],
   "source": [
    "gene_coords = pd.read_csv(GENE_MATRIX, sep='\\t', compression='infer')\n",
    "valid_genes = gene_coords['Gene'].astype(str).intersection(sce.var_names)\n",
    "sce = sce[:, sce.var_names.isin(valid_genes)].copy()\n",
    "print('Genes after filter:', sce.n_vars)"
   ]
  },
  {
   "cell_type": "markdown",
   "id": "4fbb03a8",
   "metadata": {},
   "source": [
    "## 💾 Save Expression + Position AnnData"
   ]
  },
  {
   "cell_type": "code",
   "execution_count": null,
   "id": "4a2d47b2",
   "metadata": {},
   "outputs": [],
   "source": [
    "sce.write(OUTPUT_DIR/'Kamath_2022_normal_expr_gene_withPos.h5ad')"
   ]
  },
  {
   "cell_type": "markdown",
   "id": "c9769933",
   "metadata": {},
   "source": [
    "## 📊 Generate scDRS Covariate File"
   ]
  },
  {
   "cell_type": "code",
   "execution_count": null,
   "id": "8ad01494",
   "metadata": {},
   "outputs": [],
   "source": [
    "cov = pd.DataFrame(index=sce.obs_names)\n",
    "cov['const'] = 1\n",
    "cov['n_genes'] = (sce.X>0).sum(axis=1)\n",
    "cov['sex'] = sce.obs['sex']\n",
    "cov['age'] = sce.obs['age']\n",
    "for donor in sorted(sce.obs['donor_id'].unique()):\n",
    "    cov[f'donor_{donor}'] = (sce.obs['donor_id']==donor).astype(int)\n",
    "cov.to_csv(OUTPUT_DIR/'Kamath_2022_normal_expr_gene_withPos.cov', sep='\\t')"
   ]
  },
  {
   "cell_type": "markdown",
   "id": "647cd928",
   "metadata": {},
   "source": [
    "## 🧩 Subset to Protein‑Coding Genes"
   ]
  },
  {
   "cell_type": "code",
   "execution_count": null,
   "id": "4a1ec9b6",
   "metadata": {},
   "outputs": [],
   "source": [
    "pc_genes = gene_coords[gene_coords['gene_type']=='protein_coding']['Gene']\n",
    "subset_pc = sce[:, sce.var_names.isin(pc_genes)].copy()\n",
    "subset_pc.write(OUTPUT_DIR/'Kamath_2022_normal_pc.h5ad')\n",
    "print(subset_pc)"
   ]
  },
  {
   "cell_type": "markdown",
   "id": "216ba8c9",
   "metadata": {},
   "source": [
    "## 🗃️ Export Gene Lists"
   ]
  },
  {
   "cell_type": "code",
   "execution_count": null,
   "id": "d793fffc",
   "metadata": {},
   "outputs": [],
   "source": [
    "pd.Series(sce.var_names,name='Gene').to_csv(OUTPUT_DIR/'Kamath_2022_normal_allgene_list.csv', index=False)\n",
    "pd.Series(subset_pc.var_names,name='Gene').to_csv(OUTPUT_DIR/'Kamath_2022_normal_pcgene_list.csv', index=False)"
   ]
  },
  {
   "cell_type": "markdown",
   "id": "24b5681b",
   "metadata": {},
   "source": [
    "## 📈 Plot Gene‑Type Distribution"
   ]
  },
  {
   "cell_type": "code",
   "execution_count": null,
   "id": "3bbb85a5",
   "metadata": {},
   "outputs": [],
   "source": [
    "gene_type_counts = gene_coords[gene_coords['Gene'].isin(sce.var_names)]['gene_type'].value_counts()\n",
    "ax = gene_type_counts.plot(kind='bar', figsize=(8,6))\n",
    "ax.set_ylabel('Number of genes')\n",
    "ax.set_xlabel('Gene type')\n",
    "plt.xticks(rotation=45, ha='right')\n",
    "plt.tight_layout()\n",
    "plt.savefig(OUTPUT_DIR/'Kamath_2022_gene_type_distribution.png')\n",
    "plt.show()"
   ]
  }
 ],
 "metadata": {
  "kernelspec": {
   "display_name": "Python 3",
   "language": "python",
   "name": "python3"
  }
 },
 "nbformat": 4,
 "nbformat_minor": 5
}
