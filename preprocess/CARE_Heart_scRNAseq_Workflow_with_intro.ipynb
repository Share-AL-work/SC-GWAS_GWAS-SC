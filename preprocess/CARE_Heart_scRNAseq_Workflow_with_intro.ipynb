{
 "cells": [
  {
   "cell_type": "markdown",
   "id": "d386cdbf",
   "metadata": {},
   "source": [
    "# 🫀 CARE Heart scRNA‑seq Processing Workflow\n",
    "This notebook demonstrates a path‑agnostic workflow for preprocessing CARE Heart snRNA‑seq data.\n"
   ]
  },
  {
   "cell_type": "markdown",
   "id": "c6e0b8cc",
   "metadata": {},
   "source": [
    "## 📖 Introduction & Data Sources\n",
    "\n",
    "**Dataset:** CARE heart single‑nucleus RNA‑seq (snRNA‑seq)  \n",
    "*Original portal:* <http://ns104190.ip-147-135-44.us/data_CARE_portal/snATAC/ucsc_browser/>\n",
    "\n",
    "**Raw files obtained from HPC storage**\n",
    "\n",
    "```\n",
    "./Human_sc/processed/CARE\n",
    "└── CARE_snRNA_Heart.h5ad                # Pre‑assembled AnnData (GRCh38)\n",
    "```\n",
    "\n",
    "**Key processing outputs (relative to the same folder)**\n",
    "\n",
    "| Purpose | Output file |\n",
    "|---|---|\n",
    "| Expression w/ genomic positions | `CARE_snRNA_Heart_expr_gene_withPos.h5ad` |\n",
    "| Protein‑coding gene subset | `CARE_snRNA_Heart_pc.h5ad` |\n",
    "| scDRS covariate file | `CARE_snRNA_Heart_expr_gene_withPos.cov` |\n",
    "| Gene‑type distribution plot | `CARE_snRNA_Heart_gene_type_distribution.png` |\n",
    "| Gene lists | `CARE_snRNA_Heart_allgene_list.csv`, `CARE_snRNA_Heart_pcgene_list.csv` |\n",
    "| Unique cell‑type list | `CARE_snRNA_Heart_unique_celltype.csv` |\n",
    "\n",
    "Feel free to adjust the absolute paths (`/QRISdata/...`) to match your environment, or keep them as‑is when running on the QRISdata cluster.\n"
   ]
  },
  {
   "cell_type": "markdown",
   "id": "fd231b37",
   "metadata": {},
   "source": [
    "## 🔧 Environment Setup"
   ]
  },
  {
   "cell_type": "code",
   "execution_count": null,
   "id": "e2fe32de",
   "metadata": {},
   "outputs": [],
   "source": [
    "import scanpy as sc\n",
    "import anndata as ad\n",
    "import pandas as pd\n",
    "import numpy as np\n",
    "import matplotlib.pyplot as plt\n",
    "from pathlib import Path"
   ]
  },
  {
   "cell_type": "markdown",
   "id": "e3e025a7",
   "metadata": {},
   "source": [
    "## 📂 Define Input / Output Paths"
   ]
  },
  {
   "cell_type": "code",
   "execution_count": null,
   "id": "4494c7c2",
   "metadata": {},
   "outputs": [],
   "source": [
    "# Edit these paths as needed\n",
    "DATA_DIR   = Path('data/CARE')\n",
    "OUTPUT_DIR = Path('output/CARE')\n",
    "OUTPUT_DIR.mkdir(parents=True, exist_ok=True)\n",
    "\n",
    "expr_path        = DATA_DIR / 'exprMatrix.tsv.gz'\n",
    "umap_path        = DATA_DIR / 'UMAP_coordinates.coords.tsv.gz'\n",
    "meta_path        = DATA_DIR / 'meta.tsv'\n",
    "gene_coord_path  = DATA_DIR.parent / 'geneMatrix.tsv.gz'"
   ]
  },
  {
   "cell_type": "markdown",
   "id": "e8fb335d",
   "metadata": {},
   "source": [
    "## 📑 Load Expression Matrix, UMAP & Metadata"
   ]
  },
  {
   "cell_type": "code",
   "execution_count": null,
   "id": "560e547a",
   "metadata": {},
   "outputs": [],
   "source": [
    "expr_matrix = pd.read_csv(expr_path, sep='\\t', index_col=0, compression='infer')\n",
    "umap_coords = pd.read_csv(umap_path, sep='\\t', index_col=0, compression='infer')\n",
    "metadata    = pd.read_csv(meta_path, sep='\\t', index_col=0)"
   ]
  },
  {
   "cell_type": "markdown",
   "id": "5819b197",
   "metadata": {},
   "source": [
    "## 🧬 Build AnnData Object"
   ]
  },
  {
   "cell_type": "code",
   "execution_count": null,
   "id": "6668de18",
   "metadata": {},
   "outputs": [],
   "source": [
    "adata = ad.AnnData(expr_matrix.T)\n",
    "adata.obs = metadata\n",
    "umap_coords_aligned = umap_coords.reindex(adata.obs_names)\n",
    "adata.obsm['X_umap'] = umap_coords_aligned.values\n",
    "print(adata)"
   ]
  },
  {
   "cell_type": "markdown",
   "id": "b6dc1cf4",
   "metadata": {},
   "source": [
    "## 🔁 Convert Gene Symbols → Ensembl IDs"
   ]
  },
  {
   "cell_type": "code",
   "execution_count": null,
   "id": "68672e2d",
   "metadata": {},
   "outputs": [],
   "source": [
    "biomart_df = pd.read_csv(gene_coord_path, sep='\\t', compression='infer')\n",
    "biomart_df['ensgid'] = biomart_df['ensgid'].astype(str)\n",
    "adata.var['symbol_gene_name'] = adata.var.index\n",
    "symbol_to_ensg = biomart_df.set_index('gene_name')['ensgid']\n",
    "adata.var['ensgid'] = adata.var['symbol_gene_name'].map(symbol_to_ensg)\n",
    "print('Missing ENSG IDs:', adata.var['ensgid'].isna().sum())\n",
    "adata.var.dropna(subset=['ensgid'], inplace=True)\n",
    "adata.var.set_index('ensgid', inplace=True)\n",
    "adata = adata[:, adata.var.index].copy()"
   ]
  },
  {
   "cell_type": "markdown",
   "id": "3ef08f16",
   "metadata": {},
   "source": [
    "## 🕵️‍♀️ Remove Low‑Frequency Cell Types (<20 cells)"
   ]
  },
  {
   "cell_type": "code",
   "execution_count": null,
   "id": "ce366b7d",
   "metadata": {},
   "outputs": [],
   "source": [
    "adata.obs['celltype'] = adata.obs['celltype'].str.replace(' ', '_', regex=False)\n",
    "cell_counts = adata.obs['celltype'].value_counts()\n",
    "cell_counts.to_csv(OUTPUT_DIR / 'celltype_counts.txt', sep='\\t')\n",
    "keep_types = cell_counts[cell_counts >= 20].index\n",
    "adata = adata[adata.obs['celltype'].isin(keep_types)].copy()\n",
    "print(f'Retained {adata.n_obs} cells across {adata.obs[\"celltype\"].nunique()} cell types.')"
   ]
  },
  {
   "cell_type": "markdown",
   "id": "fe94a6b3",
   "metadata": {},
   "source": [
    "## 💾 Save Filtered AnnData"
   ]
  },
  {
   "cell_type": "code",
   "execution_count": null,
   "id": "6dbdd469",
   "metadata": {},
   "outputs": [],
   "source": [
    "adata.write(OUTPUT_DIR / 'CARE_snRNA_Heart_expr_gene_withPos.h5ad')"
   ]
  },
  {
   "cell_type": "markdown",
   "id": "1576ae51",
   "metadata": {},
   "source": [
    "## 📊 Generate Covariate File for scDRS"
   ]
  },
  {
   "cell_type": "code",
   "execution_count": null,
   "id": "fba2a112",
   "metadata": {},
   "outputs": [],
   "source": [
    "df_cov = pd.DataFrame(index=adata.obs.index)\n",
    "df_cov['const'] = 1\n",
    "df_cov['n_genes'] = (adata.X > 0).sum(axis=1)\n",
    "for samp in sorted(adata.obs['Sample'].unique()):\n",
    "    df_cov[f'donor_{samp}'] = (adata.obs['Sample'] == samp).astype(int)\n",
    "df_cov.to_csv(OUTPUT_DIR / 'CARE_snRNA_Heart_expr_gene_withPos.cov', sep='\\t')"
   ]
  },
  {
   "cell_type": "markdown",
   "id": "0750ab1c",
   "metadata": {},
   "source": [
    "## 🧩 Subset to Protein‑Coding Genes"
   ]
  },
  {
   "cell_type": "code",
   "execution_count": null,
   "id": "be3ff991",
   "metadata": {},
   "outputs": [],
   "source": [
    "protein_coding = biomart_df[biomart_df['gene_type'] == 'protein_coding']['ensgid']\n",
    "adata_pc = adata[:, adata.var.index.isin(protein_coding)].copy()\n",
    "adata_pc.write(OUTPUT_DIR / 'CARE_snRNA_Heart_pc.h5ad')"
   ]
  },
  {
   "cell_type": "markdown",
   "id": "42e0f5d0",
   "metadata": {},
   "source": [
    "## 📈 Plot Gene Type Distribution"
   ]
  },
  {
   "cell_type": "code",
   "execution_count": null,
   "id": "75337a65",
   "metadata": {},
   "outputs": [],
   "source": [
    "gene_type_counts = biomart_df[biomart_df['ensgid'].isin(adata.var.index)]['gene_type'].value_counts()\n",
    "ax = gene_type_counts.plot(kind='bar', figsize=(8,6))\n",
    "ax.set_ylabel('Number of genes')\n",
    "ax.set_xlabel('Gene type')\n",
    "plt.xticks(rotation=45, ha='right')\n",
    "plt.tight_layout()\n",
    "plt.savefig(OUTPUT_DIR / 'CARE_snRNA_Heart_gene_type_distribution.png')\n",
    "plt.show()"
   ]
  },
  {
   "cell_type": "markdown",
   "id": "9bcc6d51",
   "metadata": {},
   "source": [
    "## 🗂️ Export Gene Lists"
   ]
  },
  {
   "cell_type": "code",
   "execution_count": null,
   "id": "f388981d",
   "metadata": {},
   "outputs": [],
   "source": [
    "pd.Series(adata.var.index, name='ensgid').to_csv(OUTPUT_DIR / 'CARE_snRNA_Heart_allgene_list.csv', index=False)\n",
    "pd.Series(adata_pc.var.index, name='ensgid').to_csv(OUTPUT_DIR / 'CARE_snRNA_Heart_pcgene_list.csv', index=False)"
   ]
  }
 ],
 "metadata": {
  "kernelspec": {
   "display_name": "Python 3",
   "language": "python",
   "name": "python3"
  }
 },
 "nbformat": 4,
 "nbformat_minor": 5
}
