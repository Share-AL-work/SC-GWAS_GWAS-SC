{
 "cells": [
  {
   "cell_type": "markdown",
   "id": "e499fa20",
   "metadata": {},
   "source": [
    "🟫 Cheng et al. (2018) Human Epidermis scRNA‑seq Workflow"
   ]
  },
  {
   "cell_type": "markdown",
   "id": "c9148b1d",
   "metadata": {},
   "source": [
    "## 📖 Overview  \n",
    "* **Paper**: Cheng JB *et al.* (2018) *Cell Reports* — “Transcriptional Programming of Normal and Inflamed Human Epidermis at Single‑Cell Resolution”.  \n",
    "* **Dataset portal**: <https://cells.ucsc.edu/?ds=human-epidermis>  \n",
    "* **Raw data accession**: EGAS00001002927  \n",
    "* **Cells profiled**: 92 889 epidermal cells (9 normal, 3 inflamed).\n",
    "\n",
    "### Outputs (this workflow)\n",
    "| File | Description |\n",
    "| --- | --- |\n",
    "| `Cheng_2018_Cell_Reports_updated.h5ad` | AnnData with raw counts & cleaned labels |\n",
    "| `Cheng_2018_Cell_Reports_pc.h5ad` | Protein‑coding subset |\n",
    "| `.cov` files | scDRS covariates (all / pc) |\n",
    "| Cell‑type counts | `Cheng_2018_Cell_Reports.cell_type_counts.txt` |\n"
   ]
  },
  {
   "cell_type": "markdown",
   "id": "86808da2",
   "metadata": {},
   "source": [
    "## 🔧 Environment Setup"
   ]
  },
  {
   "cell_type": "code",
   "execution_count": null,
   "id": "2f27d2c1",
   "metadata": {},
   "outputs": [],
   "source": [
    "import scanpy as sc\n",
    "import pandas as pd\n",
    "import numpy as np\n",
    "from pathlib import Path\n",
    "from scipy.sparse import issparse"
   ]
  },
  {
   "cell_type": "markdown",
   "id": "b99b43e8",
   "metadata": {},
   "source": [
    "## 📂 Define Paths"
   ]
  },
  {
   "cell_type": "code",
   "execution_count": null,
   "id": "62ea9d79",
   "metadata": {},
   "outputs": [],
   "source": [
    "DATA_DIR   = Path('data/Cheng_2018')\n",
    "OUTPUT_DIR = Path('output/Cheng_2018')\n",
    "OUTPUT_DIR.mkdir(parents=True, exist_ok=True)\n",
    "\n",
    "H5AD_RAW   = DATA_DIR/'Cheng_2018_Cell_Reports.h5ad'\n",
    "EXPR_TSV   = DATA_DIR/'exprMatrix.tsv.gz'\n",
    "UMAP_TSV   = DATA_DIR/'umap_hm.coords.tsv.gz'\n",
    "META_TSV   = DATA_DIR/'meta.tsv'\n",
    "GENE_MATRIX= Path('data')/'geneMatrix.tsv.gz'\n",
    "\n",
    "H5AD_UPD   = OUTPUT_DIR/'Cheng_2018_Cell_Reports_updated.h5ad'\n",
    "PC_H5AD    = OUTPUT_DIR/'Cheng_2018_Cell_Reports_pc.h5ad'\n",
    "COV_ALL    = OUTPUT_DIR/'Cheng_2018_Cell_Reports.cov'\n",
    "COV_PC     = OUTPUT_DIR/'Cheng_2018_Cell_Reports_pc.cov'\n",
    "COUNTS_TXT = OUTPUT_DIR/'Cheng_2018_Cell_Reports.cell_type_counts.txt'"
   ]
  },
  {
   "cell_type": "markdown",
   "id": "97fc2d37",
   "metadata": {},
   "source": [
    "## 🧬 Load Base AnnData"
   ]
  },
  {
   "cell_type": "code",
   "execution_count": null,
   "id": "a6e3af34",
   "metadata": {},
   "outputs": [],
   "source": [
    "sce = sc.read_h5ad(H5AD_RAW)\n",
    "print(sce)"
   ]
  },
  {
   "cell_type": "markdown",
   "id": "6c3501c7",
   "metadata": {},
   "source": [
    "## 🔄 Replace Expression Matrix with Raw Counts + Align"
   ]
  },
  {
   "cell_type": "code",
   "execution_count": null,
   "id": "4b70fd54",
   "metadata": {},
   "outputs": [],
   "source": [
    "expr = pd.read_csv(EXPR_TSV, sep='\\t', index_col=0)\n",
    "expr.index = expr.index.str.split('|').str[0]  # keep ENSG only\n",
    "meta = pd.read_csv(META_TSV, sep='\\t', index_col=0)\n",
    "\n",
    "# Sanity check cell IDs\n",
    "assert set(expr.columns)==set(sce.obs_names), 'Cell IDs mismatch!'\n",
    "expr = expr[sce.obs_names]  # same order\n",
    "common_genes = expr.index.intersection(sce.var_names)\n",
    "expr = expr.loc[common_genes]\n",
    "sce = sce[:, common_genes]\n",
    "\n",
    "sce.X = expr.T.values\n",
    "print('Replaced matrix with', expr.shape[0], 'genes.')"
   ]
  },
  {
   "cell_type": "markdown",
   "id": "871adede",
   "metadata": {},
   "source": [
    "### Update UMAP Coordinates"
   ]
  },
  {
   "cell_type": "code",
   "execution_count": null,
   "id": "0fb7087f",
   "metadata": {},
   "outputs": [],
   "source": [
    "umap = pd.read_csv(UMAP_TSV, sep='\\t', index_col=0)\n",
    "umap_aligned = umap.reindex(sce.obs_names)\n",
    "sce.obsm['X_umap'] = umap_aligned.values"
   ]
  },
  {
   "cell_type": "markdown",
   "id": "f94bb11b",
   "metadata": {},
   "source": [
    "## 🧹 Clean Cell‑Type Labels"
   ]
  },
  {
   "cell_type": "code",
   "execution_count": null,
   "id": "3ee6198a",
   "metadata": {},
   "outputs": [],
   "source": [
    "sce.obs['cell_type'] = (\n",
    "    sce.obs['cell_type']\n",
    "      .str.replace(' ', '_')\n",
    "      .str.replace('-', '_', regex=False)\n",
    "      .str.replace(',', '_', regex=False))\n",
    "print(sce.obs['cell_type'].unique()[:10])"
   ]
  },
  {
   "cell_type": "markdown",
   "id": "a0d46869",
   "metadata": {},
   "source": [
    "### Save Updated AnnData & Cell‑Type Counts"
   ]
  },
  {
   "cell_type": "code",
   "execution_count": null,
   "id": "c774c6b7",
   "metadata": {},
   "outputs": [],
   "source": [
    "sce.write(H5AD_UPD)\n",
    "ct_counts = sce.obs['cell_type'].value_counts()\n",
    "ct_counts.to_csv(COUNTS_TXT, sep='\\t', header=True)\n",
    "ct_counts.head()"
   ]
  },
  {
   "cell_type": "markdown",
   "id": "fe740c79",
   "metadata": {},
   "source": [
    "## 📊 Covariate File (All Genes)"
   ]
  },
  {
   "cell_type": "code",
   "execution_count": null,
   "id": "fff0379f",
   "metadata": {},
   "outputs": [],
   "source": [
    "cov = pd.DataFrame(index=sce.obs.index)\n",
    "cov['const']=1\n",
    "cov['n_genes']=(sce.X>0).sum(axis=1)\n",
    "for donor in sorted(sce.obs['donor_id'].unique()):\n",
    "    if donor!='fore8':\n",
    "        cov[f'donor_{donor}']=(sce.obs['donor_id']==donor).astype(int)\n",
    "\n",
    "cov.to_csv(COV_ALL, sep='\\t')\n",
    "print('Saved', COV_ALL.name)"
   ]
  },
  {
   "cell_type": "markdown",
   "id": "98dd0fbc",
   "metadata": {},
   "source": [
    "## 🧩 Protein‑Coding Subset & Covariate"
   ]
  },
  {
   "cell_type": "code",
   "execution_count": null,
   "id": "f4d2d8f2",
   "metadata": {},
   "outputs": [],
   "source": [
    "gene_coords = pd.read_csv(GENE_MATRIX, sep='\\t', compression='infer')\n",
    "pc_set = set(gene_coords[gene_coords['gene_type']=='protein_coding']['Gene'])\n",
    "subset_pc = sce[:, sce.var_names.isin(pc_set)].copy()\n",
    "subset_pc.write(PC_H5AD)\n",
    "\n",
    "cov_pc = pd.DataFrame(index=subset_pc.obs.index)\n",
    "cov_pc['const']=1\n",
    "cov_pc['n_genes']=(subset_pc.X>0).sum(axis=1)\n",
    "for donor in sorted(subset_pc.obs['donor_id'].unique()):\n",
    "    if donor!='fore8':\n",
    "        cov_pc[f'donor_{donor}']=(subset_pc.obs['donor_id']==donor).astype(int)\n",
    "\n",
    "cov_pc.to_csv(COV_PC, sep='\\t')\n",
    "print('Saved', PC_H5AD.name, 'and cov file')"
   ]
  }
 ],
 "metadata": {
  "kernelspec": {
   "display_name": "Python 3",
   "language": "python",
   "name": "python3"
  }
 },
 "nbformat": 4,
 "nbformat_minor": 5
}
