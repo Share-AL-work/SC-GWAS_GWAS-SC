{
 "cells": [
  {
   "cell_type": "markdown",
   "id": "e7c15c14",
   "metadata": {},
   "source": [
    "# 🔗 Tabula Sapiens ↔ Tabula Muris Senis Ortholog Workflow"
   ]
  },
  {
   "cell_type": "markdown",
   "id": "5a97a163",
   "metadata": {},
   "source": [
    "### Overview  \n",
    "Process human **Tabula Sapiens** and mouse **Tabula Muris Senis** atlases to create matched protein‑coding, 1‑to‑1 ortholog AnnData objects and scDRS covariates, keeping only cell types with ≥ 20 cells. All paths are relative (`TS_DIR`, `TMS_DIR`, `OUTPUT_DIR`)."
   ]
  },
  {
   "cell_type": "markdown",
   "id": "e9f93a53",
   "metadata": {},
   "source": [
    "## 🔧 Environment"
   ]
  },
  {
   "cell_type": "code",
   "execution_count": null,
   "id": "fb7eb81a",
   "metadata": {},
   "outputs": [],
   "source": [
    "import scanpy as sc\n",
    "import anndata as ad\n",
    "import pandas as pd\n",
    "from pathlib import Path"
   ]
  },
  {
   "cell_type": "markdown",
   "id": "e1813eb2",
   "metadata": {},
   "source": [
    "## 📂 Paths"
   ]
  },
  {
   "cell_type": "code",
   "execution_count": null,
   "id": "a3782cb6",
   "metadata": {},
   "outputs": [],
   "source": [
    "TS_DIR      = Path('data/TabulaSapiens')\n",
    "TMS_DIR     = Path('data/TabulaMurisSenis')\n",
    "REF_DIR     = Path('data')\n",
    "OUTPUT_DIR  = Path('output/TS_TMS')\n",
    "OUTPUT_DIR.mkdir(parents=True, exist_ok=True)\n",
    "\n",
    "TS_H5AD     = TS_DIR/'TabulaSapiens.h5ad'\n",
    "TMS_H5AD    = TMS_DIR/'TMS_facs_raw.h5ad'\n",
    "ORTHO_TXT   = REF_DIR/'biomartMouse2HumanOrthos.txt'\n",
    "GENE_COORDS = REF_DIR/'geneMatrix.tsv.gz'"
   ]
  },
  {
   "cell_type": "markdown",
   "id": "e3461fde",
   "metadata": {},
   "source": [
    "## 🧬 Load & Clean Tabula Sapiens"
   ]
  },
  {
   "cell_type": "code",
   "execution_count": null,
   "id": "976bf2ec",
   "metadata": {},
   "outputs": [],
   "source": [
    "ts = sc.read_h5ad(TS_H5AD)\n",
    "ts.X = ts.layers['raw_counts']\n",
    "if 'decontXcounts' in ts.layers: del ts.layers['decontXcounts']\n"
   ]
  },
  {
   "cell_type": "markdown",
   "id": "d55739d9",
   "metadata": {},
   "source": [
    "## 🐭 Load & Map Tabula Muris Senis"
   ]
  },
  {
   "cell_type": "code",
   "execution_count": null,
   "id": "bfab4792",
   "metadata": {},
   "outputs": [],
   "source": [
    "tms = sc.read_h5ad(TMS_H5AD)\n",
    "orth = pd.read_csv(ORTHO_TXT, sep='\\t', names=['ENSMUSG','ensgid','HUMAN','MOUSE'])\n",
    "map_d = dict(zip(north.MOUSE, north.ensgid))\n",
    "tms.var.index = [map_d.get(g,g) for g in tms.var_names]\n",
    "# unique genes\n",
    "uniq = tms.var_names[~tms.var_names.duplicated()]\n",
    "tms = tms[:, uniq].copy()\n"
   ]
  },
  {
   "cell_type": "markdown",
   "id": "3eab92f7",
   "metadata": {},
   "source": [
    "## 🔗 Identify 1‑to‑1 Protein‑Coding Orthologs"
   ]
  },
  {
   "cell_type": "code",
   "execution_count": null,
   "id": "30870b5c",
   "metadata": {},
   "outputs": [],
   "source": [
    "north = north.drop_duplicates('MOUSE').drop_duplicates('HUMAN')\n",
    "expr_ts = set(ts.var_names)\n",
    "expr_tms = set(tms.var_names)\n",
    "common  = set(north.HUMAN).intersection(expr_ts).intersection(expr_tms)\n",
    "coords  = pd.read_csv(GENE_COORDS, sep='\\t')\n",
    "pc_set = set(coords[coords['gene_type']=='protein_coding']['Gene'])\n",
    "final_genes = sorted(common & pc_set)\n",
    "print('Genes retained:', len(final_genes))\n",
    "\n",
    "ts  = ts[:, final_genes]\n",
    "tms = tms[:, final_genes]\n"
   ]
  },
  {
   "cell_type": "markdown",
   "id": "d22e1f18",
   "metadata": {},
   "source": [
    "## 🧹 Cell‑Type Cleaning & Min‑Cell Filter (≥20)"
   ]
  },
  {
   "cell_type": "code",
   "execution_count": null,
   "id": "9bb77b3a",
   "metadata": {},
   "outputs": [],
   "source": [
    "def clean(a, label):\n",
    "    col = 'cell_ontology_class'\n",
    "    a.obs[col] = a.obs[col].str.replace('[\\s,\\-]','_', regex=True)\n",
    "    keep = a.obs[col].value_counts()[lambda s: s>=20].index\n",
    "    return a[a.obs[col].isin(keep)].copy()\n",
    "\n",
    "ts  = clean(ts,  'donor')\n",
    "tms = clean(tms, 'mouse.id')\n"
   ]
  },
  {
   "cell_type": "markdown",
   "id": "cfc89080",
   "metadata": {},
   "source": [
    "## 💾 Save Filtered AnnData Objects"
   ]
  },
  {
   "cell_type": "code",
   "execution_count": null,
   "id": "c52ecfa6",
   "metadata": {},
   "outputs": [],
   "source": [
    "ts_fp  = OUTPUT_DIR/'TabulaSapiens_pc_ortholog_minCell20.h5ad'\n",
    " tms_fp = OUTPUT_DIR/'TMS_pc_ortholog_minCell20.h5ad'\n",
    "ts.write(ts_fp)\n",
    "tms.write(tms_fp)\n"
   ]
  },
  {
   "cell_type": "markdown",
   "id": "5f81fa38",
   "metadata": {},
   "source": [
    "## 📊 Generate scDRS Covariates"
   ]
  },
  {
   "cell_type": "code",
   "execution_count": null,
   "id": "5cc62043",
   "metadata": {},
   "outputs": [],
   "source": [
    "def make_cov(a, id_col, path):\n",
    "    cov = pd.DataFrame(index=a.obs.index)\n",
    "    cov['const']=1\n",
    "    cov['n_genes']=(a.X>0).sum(1)\n",
    "    for ident in sorted(a.obs[id_col].unique()):\n",
    "        cov[f'{id_col}_{ident}']=(a.obs[id_col]==ident).astype(int)\n",
    "    cov.to_csv(path, sep='\\t')\n",
    "\n",
    "make_cov(ts,'donor', OUTPUT_DIR/'TabulaSapiens_pc_ortholog_minCell20.cov')\n",
    "make_cov(tms,'mouse.id', OUTPUT_DIR/'TMS_pc_ortholog_minCell20.cov')"
   ]
  }
 ],
 "metadata": {
  "kernelspec": {
   "display_name": "Python 3",
   "language": "python",
   "name": "python3"
  }
 },
 "nbformat": 4,
 "nbformat_minor": 5
}
