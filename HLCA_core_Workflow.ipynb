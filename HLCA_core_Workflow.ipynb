{
 "cells": [
  {
   "cell_type": "markdown",
   "id": "5db9e92d",
   "metadata": {},
   "source": [
    "# 🌬️ HLCA Lung (core) snRNA‑seq Processing Workflow"
   ]
  },
  {
   "cell_type": "markdown",
   "id": "64a2e386",
   "metadata": {},
   "source": [
    "## 📖 Introduction & Data\n",
    "**Dataset**: HLCA core (healthy lung samples) • 584 944 cells / 27 957 genes  \n",
    "**Paper**: Sikkema *et al.* (2023) *Nat Med*  \n",
    "**Collection**: <https://cellxgene.cziscience.com/collections/6f6d381a-7701-4781-935c-db10d30de293>\n",
    "\n",
    "### Outputs\n",
    "| File | Description |\n",
    "| --- | --- |\n",
    "| `HLCA_core_raw.h5ad` | Raw counts AnnData |\n",
    "| `HLCA_core_healthy_RA_expr_gene_withPos.h5ad`, `...LP...` | Expr + coords subsets |\n",
    "| `HLCA_core_healthy_RA_pc.h5ad`, `...LP_pc.h5ad` | Protein‑coding subsets |\n",
    "| `.cov` | scDRS covariates |\n",
    "| Gene‑type plots | PNG bar plots |\n",
    "| Gene lists | CSV (all / pc) |\n",
    "| `HLCA_core_celltypes_levels.txt` | Cell‑type hierarchy |\n",
    "\n",
    "*All paths below are relative (`DATA_DIR`, `OUTPUT_DIR`).*\n"
   ]
  },
  {
   "cell_type": "markdown",
   "id": "88051932",
   "metadata": {},
   "source": [
    "## 🔧 Environment Setup"
   ]
  },
  {
   "cell_type": "code",
   "execution_count": null,
   "id": "1cf76893",
   "metadata": {},
   "outputs": [],
   "source": [
    "import scanpy as sc\n",
    "import anndata as ad\n",
    "import pandas as pd\n",
    "import numpy as np\n",
    "import matplotlib.pyplot as plt\n",
    "from pathlib import Path"
   ]
  },
  {
   "cell_type": "markdown",
   "id": "75da0716",
   "metadata": {},
   "source": [
    "## 📂 Define Paths"
   ]
  },
  {
   "cell_type": "code",
   "execution_count": null,
   "id": "37ad8dc7",
   "metadata": {},
   "outputs": [],
   "source": [
    "DATA_DIR   = Path('data/HLCA')        # contains HLCA_core.h5ad\n",
    "OUTPUT_DIR = Path('output/HLCA')\n",
    "OUTPUT_DIR.mkdir(parents=True, exist_ok=True)\n",
    "\n",
    "HLCA_CORE = DATA_DIR/'HLCA_core.h5ad'\n",
    "GENE_MATRIX = Path('data')/'geneMatrix.tsv.gz'  # 56k gene coords"
   ]
  },
  {
   "cell_type": "markdown",
   "id": "30faca90",
   "metadata": {},
   "source": [
    "## 📑 Load HLCA Core & Replace with Raw Counts"
   ]
  },
  {
   "cell_type": "code",
   "execution_count": null,
   "id": "ee994563",
   "metadata": {},
   "outputs": [],
   "source": [
    "adata = sc.read_h5ad(HLCA_CORE)\n",
    "adata.X = adata.raw.X\n",
    "adata.raw = None\n",
    "adata.write(OUTPUT_DIR/'HLCA_core_raw.h5ad')\n",
    "print(adata)"
   ]
  },
  {
   "cell_type": "markdown",
   "id": "c3e4333a",
   "metadata": {},
   "source": [
    "## 🧬 Keep Genes with Genomic Coordinates"
   ]
  },
  {
   "cell_type": "code",
   "execution_count": null,
   "id": "e37889a6",
   "metadata": {},
   "outputs": [],
   "source": [
    "gene_coords = pd.read_csv(GENE_MATRIX, sep='\\t', compression='infer')\n",
    "common = gene_coords['Gene'].astype(str).intersection(adata.var_names)\n",
    "adata = adata[:, adata.var_names.isin(common)].copy()\n",
    "print('Genes retained:', adata.n_vars)\n",
    "for col in ['feature_biotype','feature_is_filtered','feature_reference','feature_length']:\n",
    "    if col in adata.var.columns:\n",
    "        adata.var.drop(columns=col, inplace=True)"
   ]
  },
  {
   "cell_type": "markdown",
   "id": "902185c5",
   "metadata": {},
   "source": [
    "## 🗂️ Export Cell‑Type Level Hierarchy"
   ]
  },
  {
   "cell_type": "code",
   "execution_count": null,
   "id": "f0fe5565",
   "metadata": {},
   "outputs": [],
   "source": [
    "cols_lvl = ['ann_finest_level','ann_level_1','ann_level_2','ann_level_3','ann_level_4','ann_level_5','cell_type','tissue']\n",
    "adata.obs[cols_lvl].drop_duplicates().to_csv(OUTPUT_DIR/'HLCA_core_celltypes_levels.txt', sep='\\t', index=False)"
   ]
  },
  {
   "cell_type": "markdown",
   "id": "aeea03e9",
   "metadata": {},
   "source": [
    "## 🩺 Subset to Healthy Samples"
   ]
  },
  {
   "cell_type": "code",
   "execution_count": null,
   "id": "4a6594aa",
   "metadata": {},
   "outputs": [],
   "source": [
    "adata_h = adata[adata.obs['lung_condition']=='Healthy'].copy()"
   ]
  },
  {
   "cell_type": "markdown",
   "id": "92607dde",
   "metadata": {},
   "source": [
    "## 🌳 Process Respiratory Airway (RA) & Lung Parenchyma (LP)"
   ]
  },
  {
   "cell_type": "code",
   "execution_count": null,
   "id": "0f903eb3",
   "metadata": {},
   "outputs": [],
   "source": [
    "def process_tissue(a, tissue_tag, out_prefix):\n",
    "    sub = a[a.obs['tissue']==tissue_tag].copy()\n",
    "    # Minimal obs cols\n",
    "    sub.obs = sub.obs[['cell_type','sample','sex','age_or_mean_of_age_range']]\n",
    "    sub.obs.rename(columns={'age_or_mean_of_age_range':'age'}, inplace=True)\n",
    "    # Sex to numeric (female=0, male=1)\n",
    "    sub.obs['sex'] = sub.obs['sex'].map({'female':0,'male':1})\n",
    "    # Filter cell types <20\n",
    "    counts = sub.obs['cell_type'].value_counts()\n",
    "    keep = counts[counts>=20].index\n",
    "    sub = sub[sub.obs['cell_type'].isin(keep)].copy()\n",
    "    # Save expression+pos h5ad\n",
    "    sub.write(OUTPUT_DIR/f'{out_prefix}_expr_gene_withPos.h5ad')\n",
    "    # Covariate file\n",
    "    cov = pd.DataFrame(index=sub.obs.index)\n",
    "    cov['const']=1\n",
    "    cov['n_genes']=(sub.X>0).sum(axis=1)\n",
    "    cov['sex']=sub.obs['sex']; cov['age']=sub.obs['age']\n",
    "    for samp in sorted(sub.obs['sample'].unique()):\n",
    "        if samp!='356C_0h':\n",
    "            cov[f'donor_{samp}']=(sub.obs['sample']==samp).astype(int)\n",
    "    cov.to_csv(OUTPUT_DIR/f'{out_prefix}_expr_gene_withPos.cov',sep='\\t')\n",
    "    # Protein‑coding subset\n",
    "    pc_genes = gene_coords[gene_coords['gene_type']=='protein_coding']['Gene']\n",
    "    sub_pc = sub[:, sub.var_names.isin(pc_genes)].copy()\n",
    "    sub_pc.write(OUTPUT_DIR/f'{out_prefix}_pc.h5ad')\n",
    "    # Gene‑type plot\n",
    "    gt_counts = gene_coords[gene_coords['Gene'].isin(sub.var_names)]['gene_type'].value_counts()\n",
    "    ax = gt_counts.plot(kind='bar', figsize=(8,6))\n",
    "    ax.set_ylabel('Genes'); ax.set_xlabel('Gene type');\n",
    "    plt.xticks(rotation=45, ha='right'); plt.tight_layout()\n",
    "    plt.savefig(OUTPUT_DIR/f'{out_prefix}_gene_type_distribution.png')\n",
    "    plt.close()\n",
    "    return sub, sub_pc\n",
    "\n",
    "adata_RA, adata_RA_pc = process_tissue(adata_h,'respiratory airway','HLCA_core_healthy_RA')\n",
    "adata_LP, adata_LP_pc = process_tissue(adata_h,'lung parenchyma','HLCA_core_healthy_LP')"
   ]
  },
  {
   "cell_type": "markdown",
   "id": "7cf275a2",
   "metadata": {},
   "source": [
    "## 🗃️ Export Combined Gene Lists"
   ]
  },
  {
   "cell_type": "code",
   "execution_count": null,
   "id": "afdb2328",
   "metadata": {},
   "outputs": [],
   "source": [
    "pd.Series(adata_h.var_names,name='ensgid').to_csv(OUTPUT_DIR/'HLCA_core_healthy_allgene_list.csv',index=False)\n",
    "# PC list already saved in process_tissue (LP example)\n"
   ]
  }
 ],
 "metadata": {
  "kernelspec": {
   "display_name": "Python 3",
   "language": "python",
   "name": "python3"
  }
 },
 "nbformat": 4,
 "nbformat_minor": 5
}
